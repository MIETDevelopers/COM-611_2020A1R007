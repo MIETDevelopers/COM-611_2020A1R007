{
 "cells": [
  {
   "cell_type": "code",
   "execution_count": 1,
   "id": "b5976dcf",
   "metadata": {},
   "outputs": [],
   "source": [
    "from bs4 import BeautifulSoup\n",
    "import requests"
   ]
  },
  {
   "cell_type": "code",
   "execution_count": 2,
   "id": "04a238f1",
   "metadata": {},
   "outputs": [],
   "source": [
    "#Function to extract Product Title\n",
    "def get_title(soup):\n",
    "    try:\n",
    "        title = soup.find(\"span\",attrs={\"id\":\"productTitle\"})\n",
    "        title_string = title.get_text(strip=True)\n",
    "    except AttributeError:\n",
    "        title_string = \"\"\n",
    "    return title_string  "
   ]
  },
  {
   "cell_type": "code",
   "execution_count": 3,
   "id": "aaff25a5",
   "metadata": {},
   "outputs": [],
   "source": [
    "#Function to extract Product Price\n",
    "def get_price(soup):\n",
    "    try:\n",
    "        price = soup.find(\"span\",attrs={\"class\":\"a-offscreen\"})\n",
    "        if price is not None:\n",
    "            price_string = price.get_text(strip=True)\n",
    "        else:\n",
    "            price_string =\"\"\n",
    "    except AttributeError:\n",
    "        price_string = \"\"\n",
    "    return price_string   "
   ]
  },
  {
   "cell_type": "code",
   "execution_count": 4,
   "id": "34fb86fc",
   "metadata": {},
   "outputs": [],
   "source": [
    "#Function to extract Product Rating\n",
    "def get_rating(soup):\n",
    "     try:\n",
    "        rating = soup.find(\"span\",attrs={\"class\":\"a-icon-alt\"})\n",
    "        if rating is not None:\n",
    "            rating_string = rating.get_text(strip=True)\n",
    "        else:\n",
    "            rating_string =\"\"\n",
    "     except AttributeError:\n",
    "        rating_string = \"\"\n",
    "     return rating_string "
   ]
  },
  {
   "cell_type": "code",
   "execution_count": 5,
   "id": "5af93373",
   "metadata": {},
   "outputs": [],
   "source": [
    "#Function to extract Number of User Reviews\n",
    "def get_review_count(soup):\n",
    "     try:\n",
    "        review_count = soup.find(\"span\",attrs={\"id\":\"acrCustomerReviewText\"})\n",
    "        if review_count is not None:\n",
    "            review_count_string = review_count.get_text(strip=True)\n",
    "        else:\n",
    "            review_count_string =\"\"\n",
    "     except AttributeError:\n",
    "         review_count_string = \"\"\n",
    "     return  review_count_string"
   ]
  },
  {
   "cell_type": "code",
   "execution_count": 6,
   "id": "8df11455",
   "metadata": {},
   "outputs": [],
   "source": [
    "#Function to extract Availability Status\n",
    "def get_availability(soup):\n",
    "     try:\n",
    "        availability = soup.find(\"div\",attrs={\"id\":\"availability\"})\n",
    "        if availability is not None:\n",
    "            availability_string = availability.get_text(strip=True)\n",
    "        else:\n",
    "            availability_string =\"\"\n",
    "     except AttributeError:\n",
    "         availability_string = \"\"\n",
    "     return  availability_string"
   ]
  },
  {
   "cell_type": "code",
   "execution_count": 7,
   "id": "6ab7ab1e",
   "metadata": {},
   "outputs": [],
   "source": [
    "if __name__ ==\"__main__\":\n",
    "# Headers for request\n",
    " headers = {\n",
    "    \"User-Agent\":\"Mozilla/5.0 (X11; Linux x86_64) AppleWebKit/537.36 (KHTML, like Gecko) Chrome/44.0.2403.157 Safari/537.36\",\n",
    "    \"Accept-Language\": \"en-US,en;q=0.5\"\n",
    "}"
   ]
  },
  {
   "cell_type": "code",
   "execution_count": 8,
   "id": "922df419",
   "metadata": {},
   "outputs": [],
   "source": [
    "#The webpage URL\n",
    "url=\"https://www.amazon.com/PlayStation-4-Pro-1TB-Console/dp/B01LOP8EZC/ref=sr_1_3?crid=3LSV81GSLTGHW&keywords=ps4%2Bpro%2B1tb&qid=1683731706&sprefix=ps4%2Bpro%2B1tb%2Caps%2C331&sr=8-3&th=1\""
   ]
  },
  {
   "cell_type": "code",
   "execution_count": 9,
   "id": "ba5254ff",
   "metadata": {},
   "outputs": [],
   "source": [
    "#HTTPS Request\n",
    "webpage = requests.get(url,headers= headers)"
   ]
  },
  {
   "cell_type": "code",
   "execution_count": 10,
   "id": "bad4e4c1",
   "metadata": {},
   "outputs": [],
   "source": [
    "#Soup Object containing all data\n",
    "soup= BeautifulSoup(webpage.content,\"html.parser\")"
   ]
  },
  {
   "cell_type": "code",
   "execution_count": 11,
   "id": "e6fc3e34",
   "metadata": {},
   "outputs": [
    {
     "name": "stdout",
     "output_type": "stream",
     "text": [
      "Product Title= PlayStation 4 Pro 1TB Console\n",
      "Product Price= $249.99\n",
      "Product Rating= 4.7 out of 5 stars\n",
      "Number of product reviews= 12,557 ratings\n",
      "Availability= Only 7 left in stock - order soon\n"
     ]
    }
   ],
   "source": [
    "#Function calls to display all necessary product information\n",
    "print(\"Product Title=\", get_title(soup))\n",
    "print(\"Product Price=\", get_price(soup))\n",
    "print(\"Product Rating=\", get_rating(soup))\n",
    "print(\"Number of product reviews=\", get_review_count(soup))\n",
    "print(\"Availability=\", get_availability(soup))"
   ]
  },
  {
   "cell_type": "code",
   "execution_count": null,
   "id": "3cc4881b",
   "metadata": {},
   "outputs": [],
   "source": []
  }
 ],
 "metadata": {
  "kernelspec": {
   "display_name": "Python 3 (ipykernel)",
   "language": "python",
   "name": "python3"
  },
  "language_info": {
   "codemirror_mode": {
    "name": "ipython",
    "version": 3
   },
   "file_extension": ".py",
   "mimetype": "text/x-python",
   "name": "python",
   "nbconvert_exporter": "python",
   "pygments_lexer": "ipython3",
   "version": "3.9.12"
  }
 },
 "nbformat": 4,
 "nbformat_minor": 5
}
