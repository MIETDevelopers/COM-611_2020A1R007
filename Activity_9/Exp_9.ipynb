{
 "cells": [
  {
   "cell_type": "code",
   "execution_count": 1,
   "id": "a2313c1c",
   "metadata": {},
   "outputs": [],
   "source": [
    "import numpy as np\n",
    "import cv2"
   ]
  },
  {
   "cell_type": "code",
   "execution_count": 5,
   "id": "a70d95d5",
   "metadata": {},
   "outputs": [],
   "source": [
    "# load models\n",
    "face_cascade = cv2.CascadeClassifier(cv2.data.haarcascades + 'haarcascade_frontalface_default.xml')\n",
    "eye_cascade = cv2.CascadeClassifier(cv2.data.haarcascades + 'haarcascade_eye.xml')\n",
    "smile_cascade = cv2.CascadeClassifier(cv2.data.haarcascades + 'haarcascade_smile.xml')\n"
   ]
  },
  {
   "cell_type": "code",
   "execution_count": 7,
   "id": "e5a40aff",
   "metadata": {},
   "outputs": [],
   "source": [
    "img = cv2.imread(\"sample.jpg\")  # Load image\n",
    "cv2.imshow(\"Image\", img)  # Display the image\n",
    "cv2.waitKey(0)  # Wait for a key press\n",
    "cv2.destroyAllWindows()  # Close all windows"
   ]
  },
  {
   "cell_type": "code",
   "execution_count": 8,
   "id": "85d33a7a",
   "metadata": {},
   "outputs": [],
   "source": [
    "gray = cv2.cvtColor(img, cv2.COLOR_BGR2GRAY)  # Convert to grayscale\n",
    "cv2.imshow(\"Grayscale Image\", gray)  # Display the grayscale image\n",
    "cv2.waitKey(0)  # Wait for a key press\n",
    "cv2.destroyAllWindows()  # Close all windows\n"
   ]
  },
  {
   "cell_type": "code",
   "execution_count": 9,
   "id": "2b54c027",
   "metadata": {},
   "outputs": [],
   "source": [
    "# detect\n",
    "face_cascade = cv2.CascadeClassifier(cv2.data.haarcascades + 'haarcascade_frontalface_default.xml')\n",
    "eye_cascade = cv2.CascadeClassifier(cv2.data.haarcascades + 'haarcascade_eye.xml')\n",
    "smile_cascade = cv2.CascadeClassifier(cv2.data.haarcascades + 'haarcascade_smile.xml')\n",
    "\n",
    "faces = face_cascade.detectMultiScale(gray, 1.3, 5)"
   ]
  },
  {
   "cell_type": "code",
   "execution_count": 10,
   "id": "dffc053d",
   "metadata": {},
   "outputs": [],
   "source": [
    "# draw bounding boxes for each face detected\n",
    "for (x,y,w,h) in faces:\n",
    "    img = cv2.rectangle(img, (x,y), (x + w, y + h), (255,0,0), 2)\n",
    "    roi_gray = gray[y:y+h, x:x+w] # roi: region of interest\n",
    "    roi_color = img[y:y+h, x:x+w]\n",
    "    eyes = eye_cascade.detectMultiScale(roi_gray)\n",
    "    for (ex,ey,ew,eh) in eyes:\n",
    "        cv2.rectangle(roi_color,(ex,ey),(ex+ew,ey+eh),(0,255,0),2)\n",
    "\n",
    "\n",
    "cv2.imshow(\"Image\", img)\n",
    "cv2.waitKey(0)\n",
    "cv2.destroyAllWindows()\n",
    "\n",
    "\n",
    "img = cv2.imread(\"sample.jpg\")  # Load image\n",
    "cv2.imshow(\"Image\", img)  # Display the image\n",
    "cv2.waitKey(0)  # Wait for a key press\n",
    "cv2.destroyAllWindows()  # Close all windows\n",
    "\n",
    "gray = cv2.cvtColor(img, cv2.COLOR_BGR2GRAY) # convert to gray scale"
   ]
  },
  {
   "cell_type": "code",
   "execution_count": 11,
   "id": "9ee048b4",
   "metadata": {},
   "outputs": [],
   "source": [
    "# detect\n",
    "faces = face_cascade.detectMultiScale(gray, 1.3, 5)"
   ]
  },
  {
   "cell_type": "code",
   "execution_count": 12,
   "id": "ac56b1ff",
   "metadata": {},
   "outputs": [],
   "source": [
    "# draw bounding boxes for each face detected\n",
    "for (x,y,w,h) in faces:\n",
    "    img = cv2.rectangle(img, (x,y), (x + w, y + h), (255,0,0), 2)\n",
    "    roi_gray = gray[y:y+h, x:x+w] # roi: region of interest\n",
    "    roi_color = img[y:y+h, x:x+w]\n",
    "\n",
    "    eyes = eye_cascade.detectMultiScale(roi_gray)\n",
    "    for (ex,ey,ew,eh) in eyes:\n",
    "      cv2.rectangle(roi_color,(ex,ey),(ex+ew,ey+eh),(0,255,0),2)\n",
    "\n",
    "    smiles = smile_cascade.detectMultiScale(roi_gray)\n",
    "    for (sx, sy, sw, sh) in smiles:\n",
    "      cv2.rectangle(roi_color, (sx, sy), ((sx + sw), (sy + sh)), (0, 0, 255), 2)\n",
    "\n",
    "cv2.imshow(\"Image\", img)\n",
    "cv2.waitKey(0)\n",
    "cv2.destroyAllWindows()"
   ]
  },
  {
   "cell_type": "code",
   "execution_count": null,
   "id": "e6c2598e",
   "metadata": {},
   "outputs": [],
   "source": []
  },
  {
   "cell_type": "code",
   "execution_count": null,
   "id": "021283ab",
   "metadata": {},
   "outputs": [],
   "source": []
  }
 ],
 "metadata": {
  "kernelspec": {
   "display_name": "Python 3 (ipykernel)",
   "language": "python",
   "name": "python3"
  },
  "language_info": {
   "codemirror_mode": {
    "name": "ipython",
    "version": 3
   },
   "file_extension": ".py",
   "mimetype": "text/x-python",
   "name": "python",
   "nbconvert_exporter": "python",
   "pygments_lexer": "ipython3",
   "version": "3.9.12"
  }
 },
 "nbformat": 4,
 "nbformat_minor": 5
}
