{
 "cells": [
  {
   "cell_type": "code",
   "execution_count": 1,
   "id": "42e1d204",
   "metadata": {},
   "outputs": [],
   "source": [
    "import numpy as np\n",
    "import pandas as pd"
   ]
  },
  {
   "cell_type": "code",
   "execution_count": 2,
   "id": "7c427540",
   "metadata": {},
   "outputs": [
    {
     "name": "stdout",
     "output_type": "stream",
     "text": [
      "    size colour     shape class/label\n",
      "0    big    red    circle         yes\n",
      "1  small    red  triangle          no\n",
      "2  small    red    circle         yes\n",
      "3    big   blue    circle          no\n",
      "4  small   blue    circle         yes\n"
     ]
    }
   ],
   "source": [
    "# loading data from a csv file\n",
    "data = pd.DataFrame(data=pd.read_csv('C:/Users/onord/Documents/programs/6 Sem/Computer Vison Lab/candidate elimination algo/2020a1r007_1.csv'))\n",
    "print(data)\n"
   ]
  },
  {
   "cell_type": "code",
   "execution_count": 3,
   "id": "d1dd3597",
   "metadata": {},
   "outputs": [
    {
     "name": "stdout",
     "output_type": "stream",
     "text": [
      "[['big' 'red' 'circle']\n",
      " ['small' 'red' 'triangle']\n",
      " ['small' 'red' 'circle']\n",
      " ['big' 'blue' 'circle']\n",
      " ['small' 'blue' 'circle']]\n"
     ]
    }
   ],
   "source": [
    "# separating concept features from target\n",
    "concepts = np.array(data.iloc[:,0:-1])\n",
    "print(concepts)"
   ]
  },
  {
   "cell_type": "code",
   "execution_count": 4,
   "id": "d60761b8",
   "metadata": {},
   "outputs": [
    {
     "name": "stdout",
     "output_type": "stream",
     "text": [
      "['yes' 'no' 'yes' 'no' 'yes']\n"
     ]
    }
   ],
   "source": [
    "# isolating target into a separate dataframe \n",
    "# copying last column to target array\n",
    "target = np.array(data.iloc[:,-1])\n",
    "print(target)"
   ]
  },
  {
   "cell_type": "code",
   "execution_count": 7,
   "id": "62487cd9",
   "metadata": {},
   "outputs": [],
   "source": [
    "def learn(concepts, target):\n",
    "    '''\n",
    "    learn() function implements the learning method of the candidate elimination algorithm.\n",
    "    Arguments:\n",
    "        concepts - a data frame with all the features\n",
    "        target - a data frame with corresponding output values\n",
    "    '''\n",
    "\n",
    "# initialise 50 with the first instance from concepts\n",
    "# .copy() makes sure a new list is created instead of just pointing to the same memory location\n",
    "    specific_h = concepts[0].copy()\n",
    "    print(\"\\n initialisation of specific_h and general_h\")\n",
    "    print(specific_h)\n",
    "\n",
    "    general_h = [[\"?\" for i in range(len(specific_h))] for j in range(len(specific_h))]\n",
    "    print(general_h)\n",
    "    # the learning iterations\n",
    "    for i, h in enumerate(concepts):\n",
    "        # checking if the hypothesis has a positive target\n",
    "        if target[i] == \"yes\":\n",
    "            for x in range(len(specific_h)):\n",
    "                # change values in s & g only if values change\n",
    "                if h[x] != specific_h[x]:\n",
    "                    specific_h[x] = '?'\n",
    "                    general_h[x][x] ='?'\n",
    "                    #checking if the hypothesis has a negative target \n",
    "        if target[i] == \"no\":\n",
    "            for x in range(len(specific_h)):\n",
    "                            # for negative hypothesis change value only in g\n",
    "                if h[x] != specific_h[x]:\n",
    "                    general_h[x][x] = specific_h[x]\n",
    "                else:\n",
    "                    general_h[x][x] = '?' \n",
    "        print(\"\\n steps of candidate elimination algorithm\",i+1)\n",
    "        print(specific_h)\n",
    "        print(general_h)\n",
    "                    # find indices where we have empty rows, meaning those that are unchanged\n",
    "    indices = [i for i, val in enumerate(general_h) if val == ['?', '?', '?', '?']]\n",
    "    for i in indices:\n",
    "        # remove those rows from general_h\n",
    "        general_h.remove(['?', '?', '?', '?'])\n",
    "    # return final values\n",
    "    return specific_h, general_h"
   ]
  },
  {
   "cell_type": "code",
   "execution_count": 8,
   "id": "daa2e79e",
   "metadata": {},
   "outputs": [
    {
     "name": "stdout",
     "output_type": "stream",
     "text": [
      "\n",
      " initialisation of specific_h and general_h\n",
      "['big' 'red' 'circle']\n",
      "[['?', '?', '?'], ['?', '?', '?'], ['?', '?', '?']]\n",
      "\n",
      " steps of candidate elimination algorithm 1\n",
      "['big' 'red' 'circle']\n",
      "[['?', '?', '?'], ['?', '?', '?'], ['?', '?', '?']]\n",
      "\n",
      " steps of candidate elimination algorithm 2\n",
      "['big' 'red' 'circle']\n",
      "[['big', '?', '?'], ['?', '?', '?'], ['?', '?', 'circle']]\n",
      "\n",
      " steps of candidate elimination algorithm 3\n",
      "['?' 'red' 'circle']\n",
      "[['?', '?', '?'], ['?', '?', '?'], ['?', '?', 'circle']]\n",
      "\n",
      " steps of candidate elimination algorithm 4\n",
      "['?' 'red' 'circle']\n",
      "[['?', '?', '?'], ['?', 'red', '?'], ['?', '?', '?']]\n",
      "\n",
      " steps of candidate elimination algorithm 5\n",
      "['?' '?' 'circle']\n",
      "[['?', '?', '?'], ['?', '?', '?'], ['?', '?', '?']]\n",
      "\n",
      " final specific_h:\n",
      "['?' '?' 'circle']\n",
      "\n",
      " final geberal_h:\n",
      "[['?', '?', '?'], ['?', '?', '?'], ['?', '?', '?']]\n"
     ]
    }
   ],
   "source": [
    "s_final, g_final = learn(concepts, target)\n",
    "print(\"\\n final specific_h:\", s_final, sep=\"\\n\")\n",
    "print(\"\\n final geberal_h:\", g_final, sep=\"\\n\")"
   ]
  },
  {
   "cell_type": "code",
   "execution_count": null,
   "id": "eed7a221",
   "metadata": {},
   "outputs": [],
   "source": []
  }
 ],
 "metadata": {
  "kernelspec": {
   "display_name": "Python 3 (ipykernel)",
   "language": "python",
   "name": "python3"
  },
  "language_info": {
   "codemirror_mode": {
    "name": "ipython",
    "version": 3
   },
   "file_extension": ".py",
   "mimetype": "text/x-python",
   "name": "python",
   "nbconvert_exporter": "python",
   "pygments_lexer": "ipython3",
   "version": "3.9.12"
  }
 },
 "nbformat": 4,
 "nbformat_minor": 5
}
